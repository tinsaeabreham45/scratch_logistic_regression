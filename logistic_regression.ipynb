{
 "cells": [
  {
   "cell_type": "code",
   "execution_count": 3,
   "id": "94399743-f57c-4847-8444-a3cd9513460b",
   "metadata": {},
   "outputs": [],
   "source": [
    "import numpy as np\n",
    "import copy\n",
    "import matplotlib.pyplot as plt"
   ]
  },
  {
   "cell_type": "code",
   "execution_count": 4,
   "id": "f867c611-706f-487d-801e-3d7b5d93d8d7",
   "metadata": {},
   "outputs": [],
   "source": [
    "# data \n",
    "X = np.zeros(2)"
   ]
  },
  {
   "cell_type": "code",
   "execution_count": 5,
   "id": "41730835-53a9-4cc0-a43e-c7357f4e4647",
   "metadata": {},
   "outputs": [],
   "source": [
    "def sigmoid(z):\n",
    "    s = 1 / (1 + np.exp(-z))\n",
    "    return s"
   ]
  },
  {
   "cell_type": "code",
   "execution_count": 6,
   "id": "b76234b0-f9db-4f0c-8a12-54a857af5f2d",
   "metadata": {},
   "outputs": [
    {
     "name": "stdout",
     "output_type": "stream",
     "text": [
      "test data:\n",
      " [0 1 2 3 4 5 6 7 8 9]\n",
      "0 - 0.5\n",
      "1 - 0.7310585786300049\n",
      "2 - 0.8807970779778823\n",
      "3 - 0.9525741268224334\n",
      "4 - 0.9820137900379085\n",
      "5 - 0.9933071490757153\n",
      "6 - 0.9975273768433653\n",
      "7 - 0.9990889488055994\n",
      "8 - 0.9996646498695336\n",
      "9 - 0.9998766054240137\n"
     ]
    }
   ],
   "source": [
    "# test the sigmoid function \n",
    "data = np.array([i for i in range(0, 10)])\n",
    "print('test data:\\n', data)\n",
    "# print('test data of sigmoid:', sigmoid(data))\n",
    "Sigmoid = sigmoid(data)\n",
    "for i in range(10):\n",
    "    print(data[i], \"-\", Sigmoid[i])"
   ]
  },
  {
   "cell_type": "code",
   "execution_count": 7,
   "id": "7acef6c2-7a3d-48bd-9d4d-347ccaf27a78",
   "metadata": {},
   "outputs": [],
   "source": [
    "# parameter initialization with zero parameter \n",
    "def zeros_parameter(dim):\n",
    "    w_init = np.zeros((dim, 1))\n",
    "    b_init = 0.0\n",
    "    return w_init, b_init"
   ]
  },
  {
   "cell_type": "code",
   "execution_count": 8,
   "id": "2fa90188-be4b-4984-b9f8-2ba196380ba3",
   "metadata": {},
   "outputs": [
    {
     "name": "stdout",
     "output_type": "stream",
     "text": [
      "The w parameter [[0.]]\n",
      "The b parameter 0.0\n"
     ]
    }
   ],
   "source": [
    "# Test parameters initialization function\n",
    "dim = 1\n",
    "w, b = zeros_parameter(dim)\n",
    "print(f'The w parameter {w}')\n",
    "print(f'The b parameter {b}')\n"
   ]
  },
  {
   "cell_type": "markdown",
   "id": "d1185091-24c2-49db-9521-652bfd71aefe",
   "metadata": {},
   "source": [
    "### Forward propagation & Back propagation"
   ]
  },
  {
   "cell_type": "code",
   "execution_count": 9,
   "id": "e6ce47c3-2c4c-4145-b9e7-936ca5d8898b",
   "metadata": {},
   "outputs": [],
   "source": [
    "#FORWARD PROPAGATION (FROM X TO COST)\n",
    "def propagate(w, b, X, Y):\n",
    "    m = X.shape[1]\n",
    "    A = sigmoid(np.dot(w.T,X)+b)\n",
    "    cost = -(1/m)*np.sum(Y*np.log(A) + (1-Y) * (np.log(1-A)))\n",
    "    \n",
    "    #BACKWARD PROPAGATION (TO FIND GRAD)\n",
    "    dw = (1/m) * np.dot(X, (A-Y).T)\n",
    "    db = 1/m * np.sum(A-Y)\n",
    "\n",
    "    cost = np.squeeze(np.array(cost))\n",
    "    grad = {\"dw\":dw,\n",
    "            \"db\":db}\n",
    "\n",
    "    return grad, cost"
   ]
  },
  {
   "cell_type": "code",
   "execution_count": 10,
   "id": "7b80c2c9-8433-405c-8664-ea7b14e9bd7b",
   "metadata": {},
   "outputs": [
    {
     "name": "stdout",
     "output_type": "stream",
     "text": [
      "dw = [[ 0.25071532]\n",
      " [-0.06604096]]\n",
      "db = -0.1250040450043965\n",
      "cost = 0.15900537707692405\n"
     ]
    }
   ],
   "source": [
    "# function test with simple data \n",
    "w =  np.array([[1.], [2]])\n",
    "b = 1.5\n",
    "\n",
    "# X is using 3 examples, with 2 features each\n",
    "# Each example is stacked column-wise\n",
    "X = np.array([[1., -2., -1.], [3., 0.5, -3.2]])\n",
    "Y = np.array([[1, 1, 0]])\n",
    "\n",
    "grad, cost = propagate(w, b, X, Y)\n",
    "print (\"dw = \" + str(grad[\"dw\"]))\n",
    "print (\"db = \" + str(grad[\"db\"]))\n",
    "print (\"cost = \" + str(cost))"
   ]
  },
  {
   "cell_type": "markdown",
   "id": "e847fec2-3b30-47a0-ae89-34e8bd52ff19",
   "metadata": {},
   "source": [
    "### Perform Optimaization "
   ]
  },
  {
   "cell_type": "code",
   "execution_count": 11,
   "id": "e013624c-ae9b-405f-a86d-12498f2ce708",
   "metadata": {},
   "outputs": [],
   "source": [
    "def optimize(w, b, X, Y, num_iterations=100, learning_rate=0.009, print_cost=False):\n",
    "    w = copy.deepcopy(w)\n",
    "    b = copy.deepcopy(b)\n",
    "\n",
    "    costs = []\n",
    "    for i in range(num_iterations):\n",
    "        grads,cost = propagate(w, b, X, Y)\n",
    "\n",
    "\n",
    "        dw = grads[\"dw\"]\n",
    "        db = grads[\"db\"]\n",
    "\n",
    "        w = w-learning_rate*dw\n",
    "        b = b-learning_rate*db\n",
    "        if i % 100 == 0:\n",
    "            costs.append(cost)\n",
    "        \n",
    "            # Print the cost every 100 training iterations\n",
    "            if print_cost:\n",
    "                print (\"Cost after iteration %i: %f\" %(i, cost))\n",
    "    \n",
    "    params = {\"w\": w,\n",
    "              \"b\": b}\n",
    "    \n",
    "    grads = {\"dw\": dw,\n",
    "             \"db\": db}\n",
    "    \n",
    "    return params, grads, costs"
   ]
  },
  {
   "cell_type": "code",
   "execution_count": 12,
   "id": "006d1e3b-3be3-4ac5-a96e-303578d0c09c",
   "metadata": {},
   "outputs": [
    {
     "name": "stdout",
     "output_type": "stream",
     "text": [
      "w = [[0.80956046]\n",
      " [2.0508202 ]]\n",
      "b = 1.5948713189708588\n",
      "dw = [[ 0.17860505]\n",
      " [-0.04840656]]\n",
      "db = -0.08888460336847771\n",
      "Costs = [array(0.15900538)]\n"
     ]
    }
   ],
   "source": [
    "params, grads, costs = optimize(w, b, X, Y, num_iterations=100, learning_rate=0.009, print_cost=False)\n",
    "\n",
    "print (\"w = \" + str(params[\"w\"]))\n",
    "print (\"b = \" + str(params[\"b\"]))\n",
    "print (\"dw = \" + str(grads[\"dw\"]))\n",
    "print (\"db = \" + str(grads[\"db\"]))\n",
    "print(\"Costs = \" + str(costs))"
   ]
  },
  {
   "cell_type": "markdown",
   "id": "9b1c0807-453a-4d2f-8d09-68100422182f",
   "metadata": {},
   "source": [
    "## Prediction"
   ]
  },
  {
   "cell_type": "code",
   "execution_count": 13,
   "id": "65d5e4a2-cfc1-483d-aa39-3e45d2a91cde",
   "metadata": {},
   "outputs": [],
   "source": [
    "def predict(w , b, x):\n",
    "    m = X.shape[1]\n",
    "    y_predicted = np.zeros((1,m))\n",
    "    w = w.reshape(X.shape[0], 1)\n",
    "\n",
    "    A = sigmoid(np.dot(w.T, X)+b)\n",
    "\n",
    "    for i in range(A.shape[1]):\n",
    "        if A[0][i] >= 0.5:\n",
    "            y_predicted[0][i]=1\n",
    "        else:\n",
    "            y_predicted[0][i]==0\n",
    "    return y_predicted"
   ]
  },
  {
   "cell_type": "code",
   "execution_count": 14,
   "id": "c23dea4b-ba14-48a3-907d-0f835d8a7b06",
   "metadata": {},
   "outputs": [
    {
     "name": "stdout",
     "output_type": "stream",
     "text": [
      "predictions = [[1. 1. 0.]]\n"
     ]
    }
   ],
   "source": [
    "w = np.array([[0.1124579], [0.23106775]])\n",
    "b = -0.3\n",
    "X = np.array([[1., -1.1, -3.2],[1.2, 2., 0.1]])\n",
    "print (\"predictions = \" + str(predict(w, b, X)))"
   ]
  },
  {
   "cell_type": "markdown",
   "id": "4a2d1428-a654-40ef-8bb1-388d24eff309",
   "metadata": {},
   "source": [
    "# Plots"
   ]
  },
  {
   "cell_type": "code",
   "execution_count": 1,
   "id": "94ea8ca0-b7bc-496a-a13e-089fee900c1c",
   "metadata": {},
   "outputs": [],
   "source": [
    "# Plot learning curve (with costs)"
   ]
  },
  {
   "cell_type": "markdown",
   "id": "e5cbb956-dbc5-4bc3-9cb4-b4b8ac6a0845",
   "metadata": {},
   "source": [
    "# All Together "
   ]
  },
  {
   "cell_type": "code",
   "execution_count": 16,
   "id": "259d1588-a013-4471-a822-5ad21e6176e5",
   "metadata": {},
   "outputs": [],
   "source": [
    "def model(X_train, Y_train, X_test, Y_test, num_iteration=2000, learning_rate=0.009, print_cost=False):\n",
    "    # (≈ 1 line of code)   \n",
    "    # initialize parameters with zeros\n",
    "    # w, b = ...\n",
    "    \n",
    "    #(≈ 1 line of code)\n",
    "    # Gradient descent \n",
    "    # params, grads, costs = ...\n",
    "    \n",
    "    # Retrieve parameters w and b from dictionary \"params\"\n",
    "    # w = ...\n",
    "    # b = ...\n",
    "    \n",
    "    # Predict test/train set examples (≈ 2 lines of code)\n",
    "    # Y_prediction_test = ...\n",
    "    # Y_prediction_train = ...\n",
    "    w,b = zeros_parameter(X_train.sahpe[0])\n",
    "    params, grads, cost  = optimize(w, b, X_train, Y_train, num_iteration, learning_rate, print_cost)\n",
    "\n",
    "    parmas = {\"w\":w,\n",
    "              \"b\":b}\n",
    "    # grads = {\"dw\":dw, IF I WANT THE DW AND DB\n",
    "    #         \"db\",db}\n",
    "\n",
    "\n",
    "    Y_prediction_test = (w, b, X_test)\n",
    "    Y_prediction_train = (w, b, X_train)\n",
    "\n",
    "    final = {\"costs\": costs,\n",
    "         \"Y_prediction_test\": Y_prediction_test, \n",
    "         \"Y_prediction_train\" : Y_prediction_train, \n",
    "         \"w\" : w, \n",
    "         \"b\" : b,\n",
    "         \"learning_rate\" : learning_rate,\n",
    "         \"num_iterations\": num_iterations}\n",
    "\n",
    "    return final"
   ]
  },
  {
   "cell_type": "code",
   "execution_count": null,
   "id": "a4ca3548-6547-49c5-9318-d3a3912c95de",
   "metadata": {},
   "outputs": [],
   "source": []
  }
 ],
 "metadata": {
  "kernelspec": {
   "display_name": "Python 3 (ipykernel)",
   "language": "python",
   "name": "python3"
  },
  "language_info": {
   "codemirror_mode": {
    "name": "ipython",
    "version": 3
   },
   "file_extension": ".py",
   "mimetype": "text/x-python",
   "name": "python",
   "nbconvert_exporter": "python",
   "pygments_lexer": "ipython3",
   "version": "3.12.4"
  }
 },
 "nbformat": 4,
 "nbformat_minor": 5
}
